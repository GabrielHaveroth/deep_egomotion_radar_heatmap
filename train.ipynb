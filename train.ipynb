{
  "nbformat": 4,
  "nbformat_minor": 0,
  "metadata": {
    "colab": {
      "name": "train_heatmap.ipynb",
      "provenance": [],
      "collapsed_sections": [],
      "toc_visible": true,
      "machine_shape": "hm",
      "include_colab_link": true
    },
    "kernelspec": {
      "name": "python3",
      "display_name": "Python 3"
    },
    "language_info": {
      "name": "python"
    },
    "accelerator": "GPU"
  },
  "cells": [
    {
      "cell_type": "markdown",
      "metadata": {
        "id": "view-in-github",
        "colab_type": "text"
      },
      "source": [
        "<a href=\"https://colab.research.google.com/github/GabrielHaveroth/deep_egomotion_radar_heatmap/blob/main/train.ipynb\" target=\"_parent\"><img src=\"https://colab.research.google.com/assets/colab-badge.svg\" alt=\"Open In Colab\"/></a>"
      ]
    },
    {
      "cell_type": "code",
      "metadata": {
        "id": "jJ4pt0HVS9zJ",
        "colab": {
          "base_uri": "https://localhost:8080/"
        },
        "outputId": "e27bbee8-0d7c-49ce-cd44-89b7171aac4b"
      },
      "source": [
        "from google.colab import drive\n",
        "drive.mount('/content/drive')\n"
      ],
      "execution_count": 9,
      "outputs": [
        {
          "output_type": "stream",
          "name": "stdout",
          "text": [
            "Mounted at /content/drive\n"
          ]
        }
      ]
    },
    {
      "cell_type": "code",
      "metadata": {
        "id": "95zSs73LUki8",
        "colab": {
          "base_uri": "https://localhost:8080/"
        },
        "outputId": "a88ea22c-6f55-4cdd-f530-769a70442f62"
      },
      "source": [
        "!cd drive\n",
        "!ls"
      ],
      "execution_count": 10,
      "outputs": [
        {
          "output_type": "stream",
          "name": "stdout",
          "text": [
            "drive  sample_data\n"
          ]
        }
      ]
    },
    {
      "cell_type": "code",
      "metadata": {
        "id": "J1gy-MD6b9m-"
      },
      "source": [
        "# Loading dataset\n",
        "# import numpy as np\n",
        "# y = np.load('/content/drive/My Drive/Mestrado/Coloradar/data/delta_poses.npy')\n",
        "# heatmaps = np.load('/content/drive/My Drive/Mestrado/Coloradar/data/heatmap.npy')\n",
        "# imu_data = np.load('/content/drive/My Drive/Mestrado/Coloradar/data/imu.npy')\n"
      ],
      "execution_count": null,
      "outputs": []
    },
    {
      "cell_type": "code",
      "metadata": {
        "colab": {
          "base_uri": "https://localhost:8080/"
        },
        "id": "rTeXxMG9VkD6",
        "outputId": "724fc607-2415-4e4f-c0f0-201968bd8350"
      },
      "source": [
        "%cd /content/drive/My Drive/Mestrado/Coloradar/data\n",
        "%ls"
      ],
      "execution_count": 11,
      "outputs": [
        {
          "output_type": "stream",
          "name": "stdout",
          "text": [
            "/content/drive/My Drive/Mestrado/Coloradar/data\n",
            "delta_poses.npy  \u001b[0m\u001b[01;34mmodels\u001b[0m/                    test.tfrecords\n",
            "heatmap.npy      scaler_2D_delta_poses.pkl  train.tfrecords\n",
            "imu.npy          scaler_6D_delta_poses.pkl  val.tfrecords\n",
            "\u001b[01;34mlogs\u001b[0m/            test.pkl\n"
          ]
        }
      ]
    },
    {
      "cell_type": "code",
      "metadata": {
        "id": "JsfPLdYBx2Ts"
      },
      "source": [
        "# tf record helpers\n",
        "import tensorflow as tf\n",
        "AUTOTUNE = tf.data.AUTOTUNE\n",
        "BATCH_SIZE = 16\n",
        "EPOCHS = 100\n",
        "\n",
        "# MAX and MIN POWER\n",
        "MAX_POWER = 4815355.5\n",
        "MIN_POWER = 0.01419168058782816\n",
        "MAX_DOPPLER = 1.1527502536773682\n",
        "MIN_DOPPLER = -1.317428708076477\n",
        "\n",
        "def decode_heatmap(hm_bytes):\n",
        "    frame_vals = tf.io.decode_raw(hm_bytes, little_endian=True, out_type=tf.float32)\n",
        "    frame = tf.reshape(frame_vals, (32, 128, 128, 2))[:, :, :, 0]\n",
        "    return frame\n",
        "\n",
        "def read_tfrecord(example):\n",
        "    feature_description = {'heatmap1': tf.io.FixedLenFeature([], tf.string),\n",
        "                           'heatmap2': tf.io.FixedLenFeature([], tf.string),\n",
        "                           'delta_roll': tf.io.FixedLenFeature([], tf.float32),\n",
        "                           'delta_pitch': tf.io.FixedLenFeature([], tf.float32),\n",
        "                           'delta_yaw': tf.io.FixedLenFeature([], tf.float32),\n",
        "                           'delta_x': tf.io.FixedLenFeature([], tf.float32),\n",
        "                           'delta_y': tf.io.FixedLenFeature([], tf.float32),\n",
        "                           'delta_z': tf.io.FixedLenFeature([], tf.float32)}\n",
        "    example = tf.io.parse_single_example(example, feature_description)\n",
        "    hm1 = (tf.reshape(decode_heatmap(example[\"heatmap1\"]), ((32, 128, 128, 1))) - MIN_POWER) / (MAX_POWER - MIN_POWER)\n",
        "    hm2 = (tf.reshape(decode_heatmap(example[\"heatmap2\"]), ((32, 128, 128, 1))) - MIN_POWER) / (MAX_POWER - MIN_POWER)\n",
        "    hm12 = tf.concat([hm1, hm2], -1)\n",
        "    y_rot = tf.stack([example['delta_roll'], example['delta_pitch'], example['delta_yaw']])\n",
        "    y_trans = tf.stack([example['delta_x'], example['delta_y'], example['delta_z']])\n",
        "    return hm12, (y_trans, y_rot)\n",
        "\n",
        "def load_dataset(filenames):\n",
        "  ignore_order = tf.data.Options()\n",
        "  ignore_order.experimental_deterministic = False  # disable order, increase speed\n",
        "  dataset = tf.data.TFRecordDataset(filenames)  # automatically interleaves reads from multiple files\n",
        "  dataset = dataset.with_options(ignore_order)  # uses data as soon as it streams in, rather than in its original order\n",
        "  #dataset = dataset.shuffle(256)\n",
        "  dataset = dataset.map(read_tfrecord, num_parallel_calls=AUTOTUNE)\n",
        "  # returns a dataset of (image, label) pairs if labeled=True or just images if labeled=False\n",
        "  return dataset\n",
        "\n",
        "def get_dataset(filenames):\n",
        "    dataset = load_dataset(filenames)\n",
        "    # dataset = dataset.cache()\n",
        "    # dataset = dataset.repeat()\n",
        "    dataset = dataset.batch(BATCH_SIZE)\n",
        "    dataset = dataset.prefetch(AUTOTUNE)\n",
        "    return dataset\n"
      ],
      "execution_count": 16,
      "outputs": []
    },
    {
      "cell_type": "code",
      "metadata": {
        "id": "Xcet7cPUyEzQ"
      },
      "source": [
        "# Loading dataset\n",
        "train_dataset = get_dataset('train.tfrecords')\n",
        "val_dataset = get_dataset('val.tfrecords')\n"
      ],
      "execution_count": null,
      "outputs": []
    },
    {
      "cell_type": "code",
      "metadata": {
        "id": "QszNaF2xkKo1"
      },
      "source": [
        "# Define models\n",
        "from tensorflow.keras import layers, Input, activations, Model\n",
        "\n",
        "def build_sparse_features_regressor(input: Input) -> layers.Flatten:\n",
        "    conv_1 = layers.Conv3D(name='conv1', filters=32, kernel_size=3, strides=1,\n",
        "                           padding='same', activation=activations.relu)(input)\n",
        "    conv_2 = layers.Conv3D(name='conv2', filters=32, kernel_size=3, strides=2,\n",
        "                           padding='same', activation=activations.relu)(conv_1)\n",
        "    pool_1 = layers.MaxPool3D(name=\"pool1\", strides=2)(conv_2)\n",
        "    conv_3 = layers.Conv3D(name='conv3', filters=64, kernel_size=3, strides=2,\n",
        "                           padding='same', activation=activations.relu)(pool_1)\n",
        "    conv_3_1 = layers.Conv3D(name='conv3_1', filters=64, kernel_size=3,\n",
        "                             strides=1, padding='same', activation=activations.relu)(conv_3)\n",
        "    pool_2 = layers.MaxPool3D(name=\"pool2\", strides=2)(conv_3_1)\n",
        "    conv_4 = layers.Conv3D(name='conv4', filters=128, kernel_size=3, strides=2,\n",
        "                           padding='same', activation=activations.relu)(pool_2)\n",
        "    conv_4_1 = layers.Conv3D(name='conv4_1', filters=128, kernel_size=3,\n",
        "                             strides=1, padding='same', activation=activations.relu)(conv_4)\n",
        "\n",
        "    heatmap_features = layers.Flatten()(conv_4_1)\n",
        "\n",
        "       # Translation regressor\n",
        "    fc_trans = layers.Dense(2048, activation='relu')(heatmap_features)  # tanh\n",
        "    fc_trans = layers.Dropout(0.50)(fc_trans)\n",
        "    fc_trans = layers.Dense(2048, activation='relu')(fc_trans)\n",
        "    fc_trans = layers.Dense(3, activation='linear', name='fc_trans')(fc_trans)\n",
        "    # Rotation regressor\n",
        "    fc_rot = layers.Dense(2048, activation='relu')(heatmap_features)  # tanh\n",
        "    fc_rot = layers.Dropout(0.50)(fc_rot)\n",
        "    fc_rot = layers.Dense(2048, activation='relu')(fc_rot)\n",
        "    fc_rot = layers.Dense(3, activation='linear', name='fc_rot')(fc_rot)\n",
        "    model = Model(inputs=input, outputs=[fc_trans, fc_rot])\n",
        "    return model\n",
        "    \n",
        "# Flownet\n",
        "def build_2D_flownet(input: Input, flatten=True):\n",
        "    conv_1 = layers.Conv2D(name='conv1', filters=64, kernel_size=7, strides=2,\n",
        "                           padding='same', activation=activations.relu)(input)\n",
        "    conv_2 = layers.Conv2D(name='conv2', filters=128, kernel_size=5, strides=2,\n",
        "                           padding='same', activation=activations.relu)(conv_1)\n",
        "    conv_3 = layers.Conv2D(name='conv3', filters=256, kernel_size=5, strides=2,\n",
        "                           padding='same', activation=activations.relu)(conv_2)\n",
        "    conv_3_1 = layers.Conv2D(name='conv3_1', filters=256, kernel_size=3,\n",
        "                             strides=1, padding='same', activation=activations.relu)(conv_3)\n",
        "    conv_4 = layers.Conv2D(name='conv4', filters=512, kernel_size=3, strides=2,\n",
        "                           padding='same', activation=activations.relu)(conv_3_1)\n",
        "    conv_4_1 = layers.Conv2D(name='conv4_1', filters=512, kernel_size=3,\n",
        "                             strides=1, padding='same', activation=activations.relu)(conv_4)\n",
        "    conv_5 = layers.Conv2D(name='conv5', filters=512, kernel_size=3, strides=2,\n",
        "                           padding='same', activation=activations.relu)(conv_4_1)\n",
        "    conv_5_1 = layers.Conv2D(name='conv5_1', filters=512, kernel_size=3,\n",
        "                             strides=1, padding='same', activation=activations.relu)(conv_5)\n",
        "    conv_6 = layers.Conv2D(name='conv6', filters=1024, kernel_size=3, strides=2,\n",
        "                           padding='same', activation=activations.relu)(conv_5_1)\n",
        "    conv_6_1 = layers.Conv2D(name='conv6_1', filters=1024, kernel_size=3,\n",
        "                             strides=1, padding='same', activation=activations.relu)(conv_6)\n",
        "    if flatten:\n",
        "        flow2D_features = layers.Flatten()(conv_6_1)\n",
        "    else:\n",
        "        flow2D_features = conv_6_1\n",
        "\n",
        "    return flow2D_features\n",
        "\n",
        "  # Build CROSS-attentive multi-modal odom with IMU always used\n",
        "def build_model_cross_att(imu_length, input_heatmap, mask_att='sigmoid', istraining=True, write_mask=False):\n",
        "    # --- panoramic image data\n",
        "    net = build_2D_flownet(input_heatmap, flatten=False)\n",
        "\n",
        "    # generate the mask for visual features\n",
        "    visual_mask = layers.GlobalAveragePooling2D()(net) # reshape to (?, 1, 1024), 1 stands for timeDistr.\n",
        "    visual_mask = layers.Dense(int(1024/256), activation='relu', use_bias=False, name='visual_mask_relu')(visual_mask)\n",
        "    visual_mask = layers.Dense(1024, activation='sigmoid', use_bias=False, name='visual_mask_sigmoid')(visual_mask)\n",
        "    visual_mask = layers.Reshape((1, 1, 1, 1024))(visual_mask)\n",
        "\n",
        "    # activate mask by element-wise multiplication\n",
        "    visual_att_fea = layers.Multiply()([net, visual_mask])\n",
        "    visual_att_fea = layers.Flatten()(visual_att_fea)\n",
        "\n",
        "    # IMU data\n",
        "    imu_data = Input(shape=(imu_length, 6), name='imu_data')\n",
        "    imu_lstm_1 = layers.LSTM(128, return_sequences=True, name='imu_lstm_1')(imu_data)  # 128, 256\n",
        "\n",
        "    # channel-wise IMU attention\n",
        "    reshape_imu = layers.Reshape((1, imu_length * 128))(imu_lstm_1)  # 2560, 5120, 10240\n",
        "    imu_mask = layers.Dense(128, activation='relu', use_bias=False, name='imu_mask_relu')(reshape_imu)\n",
        "    imu_mask = layers.Dense(imu_length * 128, activation='sigmoid', use_bias=False, name='imu_mask_sigmoid')(imu_mask)\n",
        "    imu_att_fea = layers.Multiply()([reshape_imu, imu_mask])\n",
        "\n",
        "    # cross-modal attention\n",
        "    imu4visual_mask = layers.Dense(128, activation='relu', use_bias=False, name='imu4visual_mask_relu')(imu_att_fea)\n",
        "    imu4visual_mask = layers.Dense(4096, activation=mask_att, use_bias=False, name='imu4visual_mask_sigmoid')(imu4visual_mask)\n",
        "    cross_visual_fea = layers.Multiply()([visual_att_fea, imu4visual_mask, visual_att_fea])\n",
        "\n",
        "    visual4imu_mask = layers.Dense(128, activation='relu', use_bias=False, name='visual4imu_mask_relu')(visual_att_fea)\n",
        "    visual4imu_mask = layers.Dense(imu_length * 128, activation=mask_att, use_bias=False, name='visual4imu_mask_sigmoid')(visual4imu_mask)\n",
        "    cross_imu_fea = layers.Multiply()([imu_att_fea, visual4imu_mask])\n",
        "\n",
        "    # Standard merge feature\n",
        "    merge_features = layers.concatenate([cross_visual_fea, cross_imu_fea], axis=-1)\n",
        "\n",
        "    # Selective features\n",
        "    forward_lstm_1 = layers.LSTM(512, dropout=0.25, return_sequences=True, name='forward_lstm_1')(merge_features)  # dropout_W=0.2, dropout_U=0.2\n",
        "    forward_lstm_2 = layers.LSTM(512, return_sequences=True, name='forward_lstm_2')(forward_lstm_1)\n",
        "\n",
        "    fc_position_1 = layers.Dense(128, activation='relu', name='fc_position_1')(forward_lstm_2)  # tanh\n",
        "    dropout_pos_1 = layers.Dropout(0.5, name='dropout_pos_1')(fc_position_1)\n",
        "    fc_position_2 = layers.Dense(64, activation='relu', name='fc_position_2')(dropout_pos_1)  # tanh\n",
        "    fc_trans = layers.Dense(3, name='fc_trans')(fc_position_2)\n",
        "\n",
        "    fc_orientation_1 = layers.Dense(128, activation='relu', name='fc_orientation_1')(forward_lstm_2)  # tanh\n",
        "    dropout_orientation_1 = layers.Dropout(0.5, name='dropout_wpqr_1')(fc_orientation_1)\n",
        "    fc_orientation_2 = layers.Dense(64, activation='relu', name='fc_orientation_2')(dropout_orientation_1)  # tanh\n",
        "    fc_rot = layers.Dense(3, name='fc_rot')(fc_orientation_2)\n",
        "\n",
        "    model = Model(inputs=[input_heatmap, imu_data], outputs=[fc_trans, fc_rot])\n",
        "\n",
        "    return model\n",
        "  "
      ],
      "execution_count": 1,
      "outputs": []
    },
    {
      "cell_type": "code",
      "metadata": {
        "colab": {
          "base_uri": "https://localhost:8080/",
          "height": 1000
        },
        "id": "HsVHhs5ek-vE",
        "outputId": "b5467a06-8006-43b6-ebe8-fd3e18c8131c"
      },
      "source": [
        "# Creating model\n",
        "from tensorflow.keras.optimizers import RMSprop, Adam\n",
        "from tensorflow.keras.callbacks import LearningRateScheduler, ModelCheckpoint, TensorBoard\n",
        "from tensorflow.keras import Input\n",
        "import datetime\n",
        "import os\n",
        "import math\n",
        "\n",
        "def step_decay(epoch):\n",
        "    initial_lrate = 0.0001\n",
        "    drop = 0.75\n",
        "    epochs_drop = 10\n",
        "    lrate = initial_lrate * math.pow(drop,\n",
        "                                     math.floor((1 + epoch) / epochs_drop))\n",
        "    print('Learning rate: ' + str(lrate))\n",
        "    return lrate\n",
        "\n",
        "# Creating checkpoint to save the best model\n",
        "MODELS_FOLDER = './models'\n",
        "checkpoint_folder = os.path.sep.join([MODELS_FOLDER, \"{epoch:03d}-{val_loss:.4f}.hdf5\"])\n",
        "if os.path.exists(checkpoint_folder):\n",
        "    os.remove(checkpoint_folder)\n",
        "checkpointer = ModelCheckpoint(filepath=checkpoint_folder, monitor='val_loss',\n",
        "                               mode='min', save_best_only=True, verbose=1)\n",
        "# Creating tensorboard to realtime evaluate the model\n",
        "log_dir = \"logs/fit/\" + datetime.datetime.now().strftime(\"%Y%m%d-%H%M%S\")\n",
        "tensorboard_callback = TensorBoard(log_dir=log_dir, histogram_freq=1, update_freq='batch')\n",
        "# Create a learning rate schedule\n",
        "lrate = LearningRateScheduler(step_decay)\n",
        "# input_shape = (128, 128, 2)\n",
        "input_shape = (32, 128, 128, 2)\n",
        "input = Input(input_shape)\n",
        "# model = build_model_cross_att(40, input)\n",
        "model = build_sparse_features_regressor(input)\n",
        "model.summary()\n",
        "loss_weights = {'fc_trans': 1,'fc_rot': 0.1}\n",
        "adam_opt = Adam(learning_rate=0.0001)\n",
        "model.compile(optimizer=adam_opt, loss={'fc_trans': 'mse', 'fc_rot': 'mse'}, loss_weights=loss_weights)\n",
        "# model.set_weights(weights)\n",
        "# history_model = model.fit(X_train, y_train, validation_data=[X_val, y_val], epochs=200, batch_size=8, callbacks=[lrate, checkpointer, tensorboard_callback], verbose=1)\n",
        "model.fit(train_dataset, validation_data=val_dataset, epochs=100, callbacks=[checkpointer, tensorboard_callback], verbose=1)\n",
        "pickle.dump(history_model, history_file)\n"
      ],
      "execution_count": 2,
      "outputs": [
        {
          "output_type": "stream",
          "name": "stdout",
          "text": [
            "Model: \"model\"\n",
            "__________________________________________________________________________________________________\n",
            " Layer (type)                   Output Shape         Param #     Connected to                     \n",
            "==================================================================================================\n",
            " input_1 (InputLayer)           [(None, 32, 128, 12  0           []                               \n",
            "                                8, 2)]                                                            \n",
            "                                                                                                  \n",
            " conv1 (Conv3D)                 (None, 32, 128, 128  1760        ['input_1[0][0]']                \n",
            "                                , 32)                                                             \n",
            "                                                                                                  \n",
            " conv2 (Conv3D)                 (None, 16, 64, 64,   27680       ['conv1[0][0]']                  \n",
            "                                32)                                                               \n",
            "                                                                                                  \n",
            " pool1 (MaxPooling3D)           (None, 8, 32, 32, 3  0           ['conv2[0][0]']                  \n",
            "                                2)                                                                \n",
            "                                                                                                  \n",
            " conv3 (Conv3D)                 (None, 4, 16, 16, 6  55360       ['pool1[0][0]']                  \n",
            "                                4)                                                                \n",
            "                                                                                                  \n",
            " conv3_1 (Conv3D)               (None, 4, 16, 16, 6  110656      ['conv3[0][0]']                  \n",
            "                                4)                                                                \n",
            "                                                                                                  \n",
            " pool2 (MaxPooling3D)           (None, 2, 8, 8, 64)  0           ['conv3_1[0][0]']                \n",
            "                                                                                                  \n",
            " conv4 (Conv3D)                 (None, 1, 4, 4, 128  221312      ['pool2[0][0]']                  \n",
            "                                )                                                                 \n",
            "                                                                                                  \n",
            " conv4_1 (Conv3D)               (None, 1, 4, 4, 128  442496      ['conv4[0][0]']                  \n",
            "                                )                                                                 \n",
            "                                                                                                  \n",
            " flatten (Flatten)              (None, 2048)         0           ['conv4_1[0][0]']                \n",
            "                                                                                                  \n",
            " dense (Dense)                  (None, 2048)         4196352     ['flatten[0][0]']                \n",
            "                                                                                                  \n",
            " dense_2 (Dense)                (None, 2048)         4196352     ['flatten[0][0]']                \n",
            "                                                                                                  \n",
            " dropout (Dropout)              (None, 2048)         0           ['dense[0][0]']                  \n",
            "                                                                                                  \n",
            " dropout_1 (Dropout)            (None, 2048)         0           ['dense_2[0][0]']                \n",
            "                                                                                                  \n",
            " dense_1 (Dense)                (None, 2048)         4196352     ['dropout[0][0]']                \n",
            "                                                                                                  \n",
            " dense_3 (Dense)                (None, 2048)         4196352     ['dropout_1[0][0]']              \n",
            "                                                                                                  \n",
            " fc_trans (Dense)               (None, 3)            6147        ['dense_1[0][0]']                \n",
            "                                                                                                  \n",
            " fc_rot (Dense)                 (None, 3)            6147        ['dense_3[0][0]']                \n",
            "                                                                                                  \n",
            "==================================================================================================\n",
            "Total params: 17,656,966\n",
            "Trainable params: 17,656,966\n",
            "Non-trainable params: 0\n",
            "__________________________________________________________________________________________________\n"
          ]
        },
        {
          "output_type": "error",
          "ename": "NameError",
          "evalue": "ignored",
          "traceback": [
            "\u001b[0;31m---------------------------------------------------------------------------\u001b[0m",
            "\u001b[0;31mNameError\u001b[0m                                 Traceback (most recent call last)",
            "\u001b[0;32m<ipython-input-2-fc7189bbbd22>\u001b[0m in \u001b[0;36m<module>\u001b[0;34m()\u001b[0m\n\u001b[1;32m     39\u001b[0m \u001b[0;31m# model.set_weights(weights)\u001b[0m\u001b[0;34m\u001b[0m\u001b[0;34m\u001b[0m\u001b[0;34m\u001b[0m\u001b[0m\n\u001b[1;32m     40\u001b[0m \u001b[0;31m# history_model = model.fit(X_train, y_train, validation_data=[X_val, y_val], epochs=200, batch_size=8, callbacks=[lrate, checkpointer, tensorboard_callback], verbose=1)\u001b[0m\u001b[0;34m\u001b[0m\u001b[0;34m\u001b[0m\u001b[0;34m\u001b[0m\u001b[0m\n\u001b[0;32m---> 41\u001b[0;31m \u001b[0mmodel\u001b[0m\u001b[0;34m.\u001b[0m\u001b[0mfit\u001b[0m\u001b[0;34m(\u001b[0m\u001b[0mtrain_dataset\u001b[0m\u001b[0;34m,\u001b[0m \u001b[0mvalidation_data\u001b[0m\u001b[0;34m=\u001b[0m\u001b[0mval_dataset\u001b[0m\u001b[0;34m,\u001b[0m \u001b[0mepochs\u001b[0m\u001b[0;34m=\u001b[0m\u001b[0;36m100\u001b[0m\u001b[0;34m,\u001b[0m \u001b[0mcallbacks\u001b[0m\u001b[0;34m=\u001b[0m\u001b[0;34m[\u001b[0m\u001b[0mcheckpointer\u001b[0m\u001b[0;34m,\u001b[0m \u001b[0mtensorboard_callback\u001b[0m\u001b[0;34m]\u001b[0m\u001b[0;34m,\u001b[0m \u001b[0mverbose\u001b[0m\u001b[0;34m=\u001b[0m\u001b[0;36m1\u001b[0m\u001b[0;34m)\u001b[0m\u001b[0;34m\u001b[0m\u001b[0;34m\u001b[0m\u001b[0m\n\u001b[0m\u001b[1;32m     42\u001b[0m \u001b[0mpickle\u001b[0m\u001b[0;34m.\u001b[0m\u001b[0mdump\u001b[0m\u001b[0;34m(\u001b[0m\u001b[0mhistory_model\u001b[0m\u001b[0;34m,\u001b[0m \u001b[0mhistory_file\u001b[0m\u001b[0;34m)\u001b[0m\u001b[0;34m\u001b[0m\u001b[0;34m\u001b[0m\u001b[0m\n",
            "\u001b[0;31mNameError\u001b[0m: name 'train_dataset' is not defined"
          ]
        }
      ]
    },
    {
      "cell_type": "code",
      "metadata": {
        "colab": {
          "base_uri": "https://localhost:8080/"
        },
        "id": "bd28nPr0Alex",
        "outputId": "586195ac-24e3-41f2-ddd5-c06b41a80af5"
      },
      "source": [
        "!pip uninstall scikit-learn"
      ],
      "execution_count": 3,
      "outputs": [
        {
          "output_type": "stream",
          "name": "stdout",
          "text": [
            "Found existing installation: scikit-learn 1.0.1\n",
            "Uninstalling scikit-learn-1.0.1:\n",
            "  Would remove:\n",
            "    /usr/local/lib/python3.7/dist-packages/scikit_learn-1.0.1.dist-info/*\n",
            "    /usr/local/lib/python3.7/dist-packages/scikit_learn.libs/libgomp-f7e03b3e.so.1.0.0\n",
            "    /usr/local/lib/python3.7/dist-packages/sklearn/*\n",
            "Proceed (y/n)? y\n",
            "  Successfully uninstalled scikit-learn-1.0.1\n"
          ]
        }
      ]
    },
    {
      "cell_type": "code",
      "metadata": {
        "colab": {
          "base_uri": "https://localhost:8080/"
        },
        "id": "7hpxD3o4AswI",
        "outputId": "e01d0be5-1a9d-4caa-a423-9b79b35efc3a"
      },
      "source": [
        "pip install scikit-learn==0.24.2"
      ],
      "execution_count": 4,
      "outputs": [
        {
          "output_type": "stream",
          "name": "stdout",
          "text": [
            "Collecting scikit-learn==0.24.2\n",
            "  Downloading scikit_learn-0.24.2-cp37-cp37m-manylinux2010_x86_64.whl (22.3 MB)\n",
            "\u001b[K     |████████████████████████████████| 22.3 MB 1.1 MB/s \n",
            "\u001b[?25hRequirement already satisfied: threadpoolctl>=2.0.0 in /usr/local/lib/python3.7/dist-packages (from scikit-learn==0.24.2) (3.0.0)\n",
            "Requirement already satisfied: numpy>=1.13.3 in /usr/local/lib/python3.7/dist-packages (from scikit-learn==0.24.2) (1.19.5)\n",
            "Requirement already satisfied: joblib>=0.11 in /usr/local/lib/python3.7/dist-packages (from scikit-learn==0.24.2) (1.1.0)\n",
            "Requirement already satisfied: scipy>=0.19.1 in /usr/local/lib/python3.7/dist-packages (from scikit-learn==0.24.2) (1.4.1)\n",
            "Installing collected packages: scikit-learn\n",
            "Successfully installed scikit-learn-0.24.2\n"
          ]
        }
      ]
    },
    {
      "cell_type": "code",
      "metadata": {
        "colab": {
          "base_uri": "https://localhost:8080/"
        },
        "id": "5ChgQCZIV_M7",
        "outputId": "20ea83f0-b31f-437e-acd9-36fdca842fdd"
      },
      "source": [
        "%cd /content/drive/My Drive/Mestrado/Coloradar/data\n",
        "%ls"
      ],
      "execution_count": 14,
      "outputs": [
        {
          "output_type": "stream",
          "name": "stdout",
          "text": [
            "/content/drive/My Drive/Mestrado/Coloradar/data\n",
            "delta_poses.npy  \u001b[0m\u001b[01;34mmodels\u001b[0m/                    test.tfrecords\n",
            "heatmap.npy      scaler_2D_delta_poses.pkl  train.tfrecords\n",
            "imu.npy          scaler_6D_delta_poses.pkl  val.tfrecords\n",
            "\u001b[01;34mlogs\u001b[0m/            test.pkl\n"
          ]
        }
      ]
    },
    {
      "cell_type": "code",
      "metadata": {
        "colab": {
          "base_uri": "https://localhost:8080/"
        },
        "id": "VdS49Amg9JnX",
        "outputId": "bd64c382-31a0-400b-d225-b156d40c6429"
      },
      "source": [
        "# Loading data\n",
        "import pandas as pd\n",
        "import pickle\n",
        "import numpy as np\n",
        "import sklearn\n",
        "def modulereload(modulename):\n",
        "    import importlib\n",
        "    importlib.reload(modulename)\n",
        "\n",
        "modulereload(sklearn)\n",
        "print(sklearn.__version__)\n",
        "test_dataset = get_dataset('test.tfrecords')\n",
        "sklearn\n",
        "scaler = pickle.load(open('scaler_6D_delta_poses.pkl', 'rb'))\n",
        "df_test_data = pd.read_pickle('test.pkl')\n"
      ],
      "execution_count": 17,
      "outputs": [
        {
          "output_type": "stream",
          "name": "stdout",
          "text": [
            "0.24.2\n"
          ]
        }
      ]
    },
    {
      "cell_type": "code",
      "metadata": {
        "colab": {
          "base_uri": "https://localhost:8080/"
        },
        "id": "55x7Weuo83hV",
        "outputId": "31cc5ef5-c6de-4c18-b541-706e5c797997"
      },
      "source": [
        "saved_model = tf.keras.models.load_model('./models/079-0.0039.hdf5')\n",
        "weights = saved_model.get_weights()\n",
        "model = build_sparse_features_regressor(input)\n",
        "model.set_weights(weights)\n",
        "model.compile(loss={'fc_trans': 'mse', 'fc_rot': 'mse'})\n",
        "y_pred = model.predict(test_dataset, verbose=1)\n",
        "loss = model.evaluate(test_dataset, verbose=1)\n",
        "\n"
      ],
      "execution_count": 20,
      "outputs": [
        {
          "output_type": "stream",
          "name": "stdout",
          "text": [
            "20/20 [==============================] - 5s 223ms/step\n",
            "20/20 [==============================] - 5s 217ms/step - loss: 0.0119 - fc_trans_loss: 0.0056 - fc_rot_loss: 0.0063\n"
          ]
        }
      ]
    },
    {
      "cell_type": "code",
      "metadata": {
        "id": "8VBSnMoZ9fR8"
      },
      "source": [
        "delta_poses_gt = scaler.inverse_transform(np.array(df_test_data['delta_poses_6D'].values.tolist()))\n",
        "deltas_rot_pred = y_pred[1]\n",
        "deltas_trans_pred = y_pred[0]\n",
        "delta_poses_pred = scaler.inverse_transform(np.concatenate([deltas_rot_pred, deltas_trans_pred], axis=1))\n"
      ],
      "execution_count": 21,
      "outputs": []
    },
    {
      "cell_type": "code",
      "metadata": {
        "colab": {
          "base_uri": "https://localhost:8080/"
        },
        "id": "ZRiDhqq3BsRB",
        "outputId": "6c15bba1-621c-4d9f-ba0d-75cd4abe9069"
      },
      "source": [
        "%cd /content/drive/MyDrive/Mestrado/Code/deep_egomotion_radar_heatmap/"
      ],
      "execution_count": 24,
      "outputs": [
        {
          "output_type": "stream",
          "name": "stdout",
          "text": [
            "/content/drive/MyDrive/Mestrado/Code/deep_egomotion_radar_heatmap\n"
          ]
        }
      ]
    },
    {
      "cell_type": "code",
      "metadata": {
        "colab": {
          "base_uri": "https://localhost:8080/"
        },
        "id": "3aul4LE_RSqm",
        "outputId": "54b94635-fda0-4093-df33-35fa78cba1e7"
      },
      "source": [
        "pip install transformations"
      ],
      "execution_count": 23,
      "outputs": [
        {
          "output_type": "stream",
          "name": "stdout",
          "text": [
            "Collecting transformations\n",
            "  Downloading transformations-2021.6.6.tar.gz (45 kB)\n",
            "\u001b[?25l\r\u001b[K     |███████▏                        | 10 kB 38.3 MB/s eta 0:00:01\r\u001b[K     |██████████████▍                 | 20 kB 45.3 MB/s eta 0:00:01\r\u001b[K     |█████████████████████▋          | 30 kB 49.2 MB/s eta 0:00:01\r\u001b[K     |████████████████████████████▉   | 40 kB 51.4 MB/s eta 0:00:01\r\u001b[K     |████████████████████████████████| 45 kB 4.0 MB/s \n",
            "\u001b[?25hRequirement already satisfied: numpy>=1.15.1 in /usr/local/lib/python3.7/dist-packages (from transformations) (1.19.5)\n",
            "Building wheels for collected packages: transformations\n",
            "  Building wheel for transformations (setup.py) ... \u001b[?25l\u001b[?25hdone\n",
            "  Created wheel for transformations: filename=transformations-2021.6.6-cp37-cp37m-linux_x86_64.whl size=113511 sha256=c398ec1ecca131248180d2a5b17e2cb1840e7d64f14a0b5078329df911b89c71\n",
            "  Stored in directory: /root/.cache/pip/wheels/f0/3c/16/a67f60f017d0003f27b7156162df6f3aa45e4b2cee82232e3a\n",
            "Successfully built transformations\n",
            "Installing collected packages: transformations\n",
            "Successfully installed transformations-2021.6.6\n"
          ]
        }
      ]
    },
    {
      "cell_type": "code",
      "metadata": {
        "colab": {
          "base_uri": "https://localhost:8080/",
          "height": 282
        },
        "id": "abWpkB1RB1TG",
        "outputId": "1f7254ce-324c-4dbe-b183-f4b4383d87be"
      },
      "source": [
        "from geometric_operations import *\n",
        "import matplotlib.pyplot as plt\n",
        "\n",
        "\n",
        "T_p_gt = np.identity(4)\n",
        "abs_poses_gt = []\n",
        "for delta_pose_gt in delta_poses_gt:\n",
        "    T_p_12 = get_matrix_from_6D_relative_pose(delta_pose_gt[:3], delta_pose_gt[3:])\n",
        "    T_p_gt = T_p_gt.dot(T_p_12)\n",
        "    abs_poses_gt.append(get_6D_poses_from_matrix(T_p_gt)[3:])\n",
        "abs_poses_gt = np.array(abs_poses_gt)\n",
        "\n",
        "T_p_pred = np.identity(4)\n",
        "abs_poses_pred = []\n",
        "for delta_pose_pred in delta_poses_pred:\n",
        "    T_p_12 = get_matrix_from_6D_relative_pose(delta_pose_pred[:3], delta_pose_pred[3:])\n",
        "    T_p_pred = T_p_pred.dot(T_p_12)\n",
        "    abs_poses_pred.append(get_6D_poses_from_matrix(T_p_pred)[3:])\n",
        "abs_poses_pred = np.array(abs_poses_pred)\n",
        "\n",
        "plt.plot(delta_poses_pred[:, 5])\n",
        "plt.plot(delta_poses_gt[:, 5])\n",
        "\n",
        "plt.plot()\n"
      ],
      "execution_count": 34,
      "outputs": [
        {
          "output_type": "execute_result",
          "data": {
            "text/plain": [
              "[]"
            ]
          },
          "metadata": {},
          "execution_count": 34
        },
        {
          "output_type": "display_data",
          "data": {
            "image/png": "[encoded data removed]",
            "text/plain": [
              "<Figure size 432x288 with 1 Axes>"
            ]
          },
          "metadata": {
            "needs_background": "light"
          }
        }
      ]
    }
  ]
}