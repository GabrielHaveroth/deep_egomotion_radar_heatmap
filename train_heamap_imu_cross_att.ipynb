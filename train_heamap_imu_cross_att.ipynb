{
  "nbformat": 4,
  "nbformat_minor": 0,
  "metadata": {
    "colab": {
      "name": "train_heamap_imu_cross_att.ipynb",
      "provenance": [],
      "machine_shape": "hm",
      "authorship_tag": "ABX9TyOj4oCTbmDWHNVruCIOP27V",
      "include_colab_link": true
    },
    "kernelspec": {
      "name": "python3",
      "display_name": "Python 3"
    },
    "language_info": {
      "name": "python"
    },
    "accelerator": "TPU"
  },
  "cells": [
    {
      "cell_type": "markdown",
      "metadata": {
        "id": "view-in-github",
        "colab_type": "text"
      },
      "source": [
        "<a href=\"https://colab.research.google.com/github/GabrielHaveroth/deep_egomotion_radar_heatmap/blob/main/train_heamap_imu_cross_att.ipynb\" target=\"_parent\"><img src=\"https://colab.research.google.com/assets/colab-badge.svg\" alt=\"Open In Colab\"/></a>"
      ]
    },
    {
      "cell_type": "code",
      "metadata": {
        "id": "jJ4pt0HVS9zJ",
        "colab": {
          "base_uri": "https://localhost:8080/"
        },
        "outputId": "c7f47d16-238f-4eaa-9754-114872bb0d05"
      },
      "source": [
        "from google.colab import drive\n",
        "drive.mount('/content/drive')\n"
      ],
      "execution_count": 2,
      "outputs": [
        {
          "output_type": "stream",
          "name": "stdout",
          "text": [
            "Mounted at /content/drive\n"
          ]
        }
      ]
    },
    {
      "cell_type": "code",
      "metadata": {
        "id": "95zSs73LUki8",
        "colab": {
          "base_uri": "https://localhost:8080/"
        },
        "outputId": "7ffc26ea-523d-4437-aa56-010ace767cf4"
      },
      "source": [
        "!cd drive\n",
        "!ls"
      ],
      "execution_count": 9,
      "outputs": [
        {
          "output_type": "stream",
          "name": "stdout",
          "text": [
            "drive  sample_data\n"
          ]
        }
      ]
    },
    {
      "cell_type": "code",
      "metadata": {
        "colab": {
          "base_uri": "https://localhost:8080/"
        },
        "id": "rTeXxMG9VkD6",
        "outputId": "fc0904f0-aca2-4f74-c5aa-69a89d45d4c5"
      },
      "source": [
        "%cd /content/drive/My Drive/Mestrado/Coloradar\n",
        "%ls"
      ],
      "execution_count": 12,
      "outputs": [
        {
          "output_type": "stream",
          "name": "stdout",
          "text": [
            "/content/drive/My Drive/Mestrado/Coloradar\n",
            "imu.npy  train.pkl\n"
          ]
        }
      ]
    }
  ]
}